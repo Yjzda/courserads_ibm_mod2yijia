{
 "cells": [
  {
   "cell_type": "markdown",
   "id": "1e2b72b0",
   "metadata": {},
   "source": [
    "#  Data Science Tools and Ecosystem"
   ]
  },
  {
   "cell_type": "markdown",
   "id": "d5614967",
   "metadata": {},
   "source": [
    "In this notebook, Data Science Tools and Ecosystem are summarized."
   ]
  },
  {
   "cell_type": "markdown",
   "id": "04d1160a",
   "metadata": {},
   "source": [
    "**Objectives**\n",
    "* List popular languages\n",
    "* List common libraries in data science\n",
    "* Show basic calculations"
   ]
  },
  {
   "cell_type": "markdown",
   "id": "f3f35c3d",
   "metadata": {},
   "source": [
    "## Author\n",
    "Yijia ZENG"
   ]
  },
  {
   "cell_type": "markdown",
   "id": "68be2f1a",
   "metadata": {},
   "source": [
    "Some of the popular languages that Data Scientists use are:\n",
    " 1. R\n",
    " 2. Python\n",
    " 3. Scala"
   ]
  },
  {
   "cell_type": "markdown",
   "id": "9e0b2697",
   "metadata": {},
   "source": [
    "Some of the commonly used libraries used by Data Scientists include\n",
    "1. pandas\n",
    "2. numpy\n",
    "3. scikit-learn\n",
    "4. keras"
   ]
  },
  {
   "cell_type": "markdown",
   "id": "227e6774",
   "metadata": {},
   "source": [
    "|Data Science Tools|\n",
    "|---|\n",
    "|Python|\n",
    "|SQL|\n",
    "|cloud|"
   ]
  },
  {
   "cell_type": "markdown",
   "id": "9dcf9e2d",
   "metadata": {},
   "source": [
    "### Below are a few examples of evaluating arithmetic expressions in Python"
   ]
  },
  {
   "cell_type": "code",
   "execution_count": 1,
   "id": "4d2dc3e2",
   "metadata": {},
   "outputs": [
    {
     "data": {
      "text/plain": [
       "17"
      ]
     },
     "execution_count": 1,
     "metadata": {},
     "output_type": "execute_result"
    }
   ],
   "source": [
    "#his a simple arithmetic expression to mutiply then add integers\n",
    "(3*4)+5"
   ]
  },
  {
   "cell_type": "code",
   "execution_count": 5,
   "id": "6afc308e",
   "metadata": {},
   "outputs": [
    {
     "data": {
      "text/plain": [
       "3.3333333333333335"
      ]
     },
     "execution_count": 5,
     "metadata": {},
     "output_type": "execute_result"
    }
   ],
   "source": [
    "#This will convert 200 minutes to hours by diving by 60\n",
    "minutes=200\n",
    "hours=minutes/60\n",
    "hours"
   ]
  },
  {
   "cell_type": "code",
   "execution_count": null,
   "id": "4ffd484d",
   "metadata": {},
   "outputs": [],
   "source": []
  }
 ],
 "metadata": {
  "kernelspec": {
   "display_name": "Python 3 (ipykernel)",
   "language": "python",
   "name": "python3"
  },
  "language_info": {
   "codemirror_mode": {
    "name": "ipython",
    "version": 3
   },
   "file_extension": ".py",
   "mimetype": "text/x-python",
   "name": "python",
   "nbconvert_exporter": "python",
   "pygments_lexer": "ipython3",
   "version": "3.10.11"
  }
 },
 "nbformat": 4,
 "nbformat_minor": 5
}
